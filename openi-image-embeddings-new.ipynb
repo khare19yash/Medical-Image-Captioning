{
 "cells": [
  {
   "cell_type": "code",
   "execution_count": 1,
   "id": "d91eefe5",
   "metadata": {
    "execution": {
     "iopub.execute_input": "2022-09-13T13:12:35.978149Z",
     "iopub.status.busy": "2022-09-13T13:12:35.977532Z",
     "iopub.status.idle": "2022-09-13T13:12:37.060730Z",
     "shell.execute_reply": "2022-09-13T13:12:37.059497Z"
    },
    "papermill": {
     "duration": 1.097658,
     "end_time": "2022-09-13T13:12:37.064177",
     "exception": false,
     "start_time": "2022-09-13T13:12:35.966519",
     "status": "completed"
    },
    "tags": []
   },
   "outputs": [
    {
     "name": "stdout",
     "output_type": "stream",
     "text": [
      "openidataset  word-embeddings-openi-new\r\n"
     ]
    }
   ],
   "source": [
    "!ls ../input/"
   ]
  },
  {
   "cell_type": "code",
   "execution_count": 2,
   "id": "118432b2",
   "metadata": {
    "execution": {
     "iopub.execute_input": "2022-09-13T13:12:37.084438Z",
     "iopub.status.busy": "2022-09-13T13:12:37.083628Z",
     "iopub.status.idle": "2022-09-13T13:12:54.811252Z",
     "shell.execute_reply": "2022-09-13T13:12:54.809984Z"
    },
    "papermill": {
     "duration": 17.740435,
     "end_time": "2022-09-13T13:12:54.814001",
     "exception": false,
     "start_time": "2022-09-13T13:12:37.073566",
     "status": "completed"
    },
    "tags": []
   },
   "outputs": [
    {
     "name": "stdout",
     "output_type": "stream",
     "text": [
      "Collecting torchxrayvision\r\n",
      "  Downloading torchxrayvision-0.0.38-py3-none-any.whl (29.0 MB)\r\n",
      "\u001b[2K     \u001b[90m━━━━━━━━━━━━━━━━━━━━━━━━━━━━━━━━━━━━━━━━\u001b[0m \u001b[32m29.0/29.0 MB\u001b[0m \u001b[31m13.0 MB/s\u001b[0m eta \u001b[36m0:00:00\u001b[0m\r\n",
      "\u001b[?25hRequirement already satisfied: tqdm>=4 in /opt/conda/lib/python3.7/site-packages (from torchxrayvision) (4.64.0)\r\n",
      "Requirement already satisfied: pillow>=5.3.0 in /opt/conda/lib/python3.7/site-packages (from torchxrayvision) (9.1.1)\r\n",
      "Requirement already satisfied: torch>=1 in /opt/conda/lib/python3.7/site-packages (from torchxrayvision) (1.11.0+cpu)\r\n",
      "Requirement already satisfied: pandas>=1 in /opt/conda/lib/python3.7/site-packages (from torchxrayvision) (1.3.5)\r\n",
      "Requirement already satisfied: torchvision>=0.5 in /opt/conda/lib/python3.7/site-packages (from torchxrayvision) (0.12.0+cpu)\r\n",
      "Requirement already satisfied: requests>=1 in /opt/conda/lib/python3.7/site-packages (from torchxrayvision) (2.28.1)\r\n",
      "Requirement already satisfied: scikit-image>=0.16 in /opt/conda/lib/python3.7/site-packages (from torchxrayvision) (0.19.3)\r\n",
      "Requirement already satisfied: numpy>=1 in /opt/conda/lib/python3.7/site-packages (from torchxrayvision) (1.21.6)\r\n",
      "Requirement already satisfied: python-dateutil>=2.7.3 in /opt/conda/lib/python3.7/site-packages (from pandas>=1->torchxrayvision) (2.8.2)\r\n",
      "Requirement already satisfied: pytz>=2017.3 in /opt/conda/lib/python3.7/site-packages (from pandas>=1->torchxrayvision) (2022.1)\r\n",
      "Requirement already satisfied: idna<4,>=2.5 in /opt/conda/lib/python3.7/site-packages (from requests>=1->torchxrayvision) (3.3)\r\n",
      "Requirement already satisfied: certifi>=2017.4.17 in /opt/conda/lib/python3.7/site-packages (from requests>=1->torchxrayvision) (2022.6.15)\r\n",
      "Requirement already satisfied: urllib3<1.27,>=1.21.1 in /opt/conda/lib/python3.7/site-packages (from requests>=1->torchxrayvision) (1.26.11)\r\n",
      "Requirement already satisfied: charset-normalizer<3,>=2 in /opt/conda/lib/python3.7/site-packages (from requests>=1->torchxrayvision) (2.1.0)\r\n",
      "Requirement already satisfied: packaging>=20.0 in /opt/conda/lib/python3.7/site-packages (from scikit-image>=0.16->torchxrayvision) (21.3)\r\n",
      "Requirement already satisfied: imageio>=2.4.1 in /opt/conda/lib/python3.7/site-packages (from scikit-image>=0.16->torchxrayvision) (2.19.3)\r\n",
      "Requirement already satisfied: tifffile>=2019.7.26 in /opt/conda/lib/python3.7/site-packages (from scikit-image>=0.16->torchxrayvision) (2021.11.2)\r\n",
      "Requirement already satisfied: networkx>=2.2 in /opt/conda/lib/python3.7/site-packages (from scikit-image>=0.16->torchxrayvision) (2.5)\r\n",
      "Requirement already satisfied: scipy>=1.4.1 in /opt/conda/lib/python3.7/site-packages (from scikit-image>=0.16->torchxrayvision) (1.7.3)\r\n",
      "Requirement already satisfied: PyWavelets>=1.1.1 in /opt/conda/lib/python3.7/site-packages (from scikit-image>=0.16->torchxrayvision) (1.3.0)\r\n",
      "Requirement already satisfied: typing-extensions in /opt/conda/lib/python3.7/site-packages (from torch>=1->torchxrayvision) (4.3.0)\r\n",
      "Requirement already satisfied: decorator>=4.3.0 in /opt/conda/lib/python3.7/site-packages (from networkx>=2.2->scikit-image>=0.16->torchxrayvision) (5.1.1)\r\n",
      "Requirement already satisfied: pyparsing!=3.0.5,>=2.0.2 in /opt/conda/lib/python3.7/site-packages (from packaging>=20.0->scikit-image>=0.16->torchxrayvision) (3.0.9)\r\n",
      "Requirement already satisfied: six>=1.5 in /opt/conda/lib/python3.7/site-packages (from python-dateutil>=2.7.3->pandas>=1->torchxrayvision) (1.15.0)\r\n",
      "Installing collected packages: torchxrayvision\r\n",
      "Successfully installed torchxrayvision-0.0.38\r\n",
      "\u001b[33mWARNING: Running pip as the 'root' user can result in broken permissions and conflicting behaviour with the system package manager. It is recommended to use a virtual environment instead: https://pip.pypa.io/warnings/venv\u001b[0m\u001b[33m\r\n",
      "\u001b[0m"
     ]
    }
   ],
   "source": [
    "!pip install torchxrayvision"
   ]
  },
  {
   "cell_type": "code",
   "execution_count": 3,
   "id": "92a60c88",
   "metadata": {
    "execution": {
     "iopub.execute_input": "2022-09-13T13:12:54.837387Z",
     "iopub.status.busy": "2022-09-13T13:12:54.836921Z",
     "iopub.status.idle": "2022-09-13T13:13:22.958742Z",
     "shell.execute_reply": "2022-09-13T13:13:22.957169Z"
    },
    "papermill": {
     "duration": 28.137173,
     "end_time": "2022-09-13T13:13:22.961958",
     "exception": false,
     "start_time": "2022-09-13T13:12:54.824785",
     "status": "completed"
    },
    "tags": []
   },
   "outputs": [],
   "source": [
    "import numpy as np\n",
    "import pandas as pd\n",
    "import re\n",
    "import csv\n",
    "import umap\n",
    "import seaborn as sns\n",
    "import os\n",
    "from PIL import Image\n",
    "import nltk\n",
    "from nltk import bigrams\n",
    "import itertools\n",
    "import cv2\n",
    "import collections\n",
    "from pathlib import Path\n",
    "from collections import Counter \n",
    "from random import sample\n",
    "import math\n",
    "from tqdm.notebook import tqdm\n",
    "from nltk.translate.bleu_score import sentence_bleu\n",
    "import pickle\n",
    "import random\n",
    "\n",
    "import torch\n",
    "import torchvision\n",
    "\n",
    "import torch.nn as nn\n",
    "import torch.optim as optim\n",
    "import torch.nn.functional as F\n",
    "from torchvision.datasets import ImageFolder\n",
    "import torchxrayvision as xrv\n",
    "import skimage.io\n",
    "\n",
    "\n",
    "from transformers import BertModel\n",
    "from transformers import BertTokenizer\n",
    "from torchvision import transforms, models\n",
    "from skimage import data, io, filters\n",
    "from torch.utils.data import DataLoader, Dataset\n",
    "import torch.optim.lr_scheduler as lr_scheduler\n",
    "\n",
    "\n",
    "import matplotlib.pyplot as plt\n",
    "%matplotlib inline"
   ]
  },
  {
   "cell_type": "code",
   "execution_count": 4,
   "id": "c0f2380b",
   "metadata": {
    "execution": {
     "iopub.execute_input": "2022-09-13T13:13:22.985901Z",
     "iopub.status.busy": "2022-09-13T13:13:22.984654Z",
     "iopub.status.idle": "2022-09-13T13:13:22.991328Z",
     "shell.execute_reply": "2022-09-13T13:13:22.990120Z"
    },
    "papermill": {
     "duration": 0.021062,
     "end_time": "2022-09-13T13:13:22.993726",
     "exception": false,
     "start_time": "2022-09-13T13:13:22.972664",
     "status": "completed"
    },
    "tags": []
   },
   "outputs": [],
   "source": [
    "device = 'cuda' if torch.cuda.is_available() else 'cpu'"
   ]
  },
  {
   "cell_type": "code",
   "execution_count": 5,
   "id": "735ff830",
   "metadata": {
    "execution": {
     "iopub.execute_input": "2022-09-13T13:13:23.016976Z",
     "iopub.status.busy": "2022-09-13T13:13:23.016559Z",
     "iopub.status.idle": "2022-09-13T13:13:23.026230Z",
     "shell.execute_reply": "2022-09-13T13:13:23.025120Z"
    },
    "papermill": {
     "duration": 0.024187,
     "end_time": "2022-09-13T13:13:23.028525",
     "exception": false,
     "start_time": "2022-09-13T13:13:23.004338",
     "status": "completed"
    },
    "tags": []
   },
   "outputs": [],
   "source": [
    "def get_img_dict(train_ids,val_ids,test_ids):\n",
    "    \n",
    "    n_train = len(train_ids)\n",
    "    n_val = len(val_ids)\n",
    "    n_test = len(test_ids)\n",
    "    \n",
    "    train_idx = np.arange(n_train)\n",
    "    val_idx = np.arange(n_train,n_train+n_val)\n",
    "    test_idx = np.arange(n_train+n_val,n_train+n_val+n_test)\n",
    "    \n",
    "    img_ids = train_ids + val_ids + test_ids\n",
    "    \n",
    "    idx2img = {}\n",
    "    img2idx = {}\n",
    "    \n",
    "    for i,img in enumerate(img_ids):\n",
    "        idx2img[i] = img\n",
    "        img2idx[img] = i\n",
    "    return img_ids,idx2img,img2idx,train_idx,val_idx,test_idx\n",
    "\n",
    "\n",
    "def get_image_word_edges(train_img_ids,train_df):\n",
    "        keywords = train_df['Keywords'].values\n",
    "        edges = set()\n",
    "        for i,img in enumerate(train_img_ids):\n",
    "            for w in keywords[i].split(','):\n",
    "                edges.add((img,w))\n",
    "        return np.array(list(edges))\n",
    "        \n",
    "    \n",
    "    \n"
   ]
  },
  {
   "cell_type": "code",
   "execution_count": 6,
   "id": "58f993ab",
   "metadata": {
    "execution": {
     "iopub.execute_input": "2022-09-13T13:13:23.050893Z",
     "iopub.status.busy": "2022-09-13T13:13:23.050443Z",
     "iopub.status.idle": "2022-09-13T13:13:23.055305Z",
     "shell.execute_reply": "2022-09-13T13:13:23.054164Z"
    },
    "papermill": {
     "duration": 0.01871,
     "end_time": "2022-09-13T13:13:23.057592",
     "exception": false,
     "start_time": "2022-09-13T13:13:23.038882",
     "status": "completed"
    },
    "tags": []
   },
   "outputs": [],
   "source": [
    "img_dir = '../input/openidataset/images/images/'\n",
    "data_dir = '../input/word-embeddings-openi-new/'"
   ]
  },
  {
   "cell_type": "code",
   "execution_count": 7,
   "id": "e033ce32",
   "metadata": {
    "execution": {
     "iopub.execute_input": "2022-09-13T13:13:23.080366Z",
     "iopub.status.busy": "2022-09-13T13:13:23.079259Z",
     "iopub.status.idle": "2022-09-13T13:13:23.092627Z",
     "shell.execute_reply": "2022-09-13T13:13:23.090949Z"
    },
    "papermill": {
     "duration": 0.028392,
     "end_time": "2022-09-13T13:13:23.096246",
     "exception": false,
     "start_time": "2022-09-13T13:13:23.067854",
     "status": "completed"
    },
    "tags": []
   },
   "outputs": [
    {
     "name": "stdout",
     "output_type": "stream",
     "text": [
      "1512\n"
     ]
    }
   ],
   "source": [
    "with open(data_dir + 'openi_word_vocab.pkl', 'rb') as f:\n",
    "    word_vocab = pickle.load(f)\n",
    "    \n",
    "print(len(word_vocab))"
   ]
  },
  {
   "cell_type": "code",
   "execution_count": 8,
   "id": "8f855c24",
   "metadata": {
    "execution": {
     "iopub.execute_input": "2022-09-13T13:13:23.120257Z",
     "iopub.status.busy": "2022-09-13T13:13:23.118913Z",
     "iopub.status.idle": "2022-09-13T13:13:23.248616Z",
     "shell.execute_reply": "2022-09-13T13:13:23.247277Z"
    },
    "papermill": {
     "duration": 0.144351,
     "end_time": "2022-09-13T13:13:23.251385",
     "exception": false,
     "start_time": "2022-09-13T13:13:23.107034",
     "status": "completed"
    },
    "tags": []
   },
   "outputs": [],
   "source": [
    "train_df = pd.read_csv(data_dir + 'train_reports_with_keywords.csv')\n",
    "val_df = pd.read_csv(data_dir + 'val_reports_with_keywords.csv')\n",
    "test_df = pd.read_csv(data_dir + 'test_reports_with_keywords.csv')"
   ]
  },
  {
   "cell_type": "code",
   "execution_count": 9,
   "id": "1401b5ff",
   "metadata": {
    "execution": {
     "iopub.execute_input": "2022-09-13T13:13:23.276988Z",
     "iopub.status.busy": "2022-09-13T13:13:23.274467Z",
     "iopub.status.idle": "2022-09-13T13:13:23.283207Z",
     "shell.execute_reply": "2022-09-13T13:13:23.281803Z"
    },
    "papermill": {
     "duration": 0.024717,
     "end_time": "2022-09-13T13:13:23.286567",
     "exception": false,
     "start_time": "2022-09-13T13:13:23.261850",
     "status": "completed"
    },
    "tags": []
   },
   "outputs": [
    {
     "name": "stdout",
     "output_type": "stream",
     "text": [
      "(2566, 14)\n",
      "(366, 14)\n",
      "(733, 14)\n"
     ]
    }
   ],
   "source": [
    "print(train_df.shape)\n",
    "print(val_df.shape)\n",
    "print(test_df.shape)"
   ]
  },
  {
   "cell_type": "code",
   "execution_count": 10,
   "id": "83c6dc23",
   "metadata": {
    "execution": {
     "iopub.execute_input": "2022-09-13T13:13:23.310361Z",
     "iopub.status.busy": "2022-09-13T13:13:23.308970Z",
     "iopub.status.idle": "2022-09-13T13:13:23.339537Z",
     "shell.execute_reply": "2022-09-13T13:13:23.338302Z"
    },
    "papermill": {
     "duration": 0.044878,
     "end_time": "2022-09-13T13:13:23.342319",
     "exception": false,
     "start_time": "2022-09-13T13:13:23.297441",
     "status": "completed"
    },
    "tags": []
   },
   "outputs": [
    {
     "data": {
      "text/html": [
       "<div>\n",
       "<style scoped>\n",
       "    .dataframe tbody tr th:only-of-type {\n",
       "        vertical-align: middle;\n",
       "    }\n",
       "\n",
       "    .dataframe tbody tr th {\n",
       "        vertical-align: top;\n",
       "    }\n",
       "\n",
       "    .dataframe thead th {\n",
       "        text-align: right;\n",
       "    }\n",
       "</style>\n",
       "<table border=\"1\" class=\"dataframe\">\n",
       "  <thead>\n",
       "    <tr style=\"text-align: right;\">\n",
       "      <th></th>\n",
       "      <th>Image</th>\n",
       "      <th>Frontal</th>\n",
       "      <th>Lateral</th>\n",
       "      <th>Comparison</th>\n",
       "      <th>Indication</th>\n",
       "      <th>Findings</th>\n",
       "      <th>Impression</th>\n",
       "      <th>MESH</th>\n",
       "      <th>Problems</th>\n",
       "      <th>Target</th>\n",
       "      <th>Problem_List</th>\n",
       "      <th>Prepoc_Problems</th>\n",
       "      <th>Prepoc_Target</th>\n",
       "      <th>Keywords</th>\n",
       "    </tr>\n",
       "  </thead>\n",
       "  <tbody>\n",
       "    <tr>\n",
       "      <th>0</th>\n",
       "      <td>CXR3403_IM-1647-1001;CXR3403_IM-1647-2001</td>\n",
       "      <td>CXR3403_IM-1647-1001</td>\n",
       "      <td>CXR3403_IM-1647-2001</td>\n",
       "      <td>None.</td>\n",
       "      <td>XXXX-year-old female. Left chest pain. Right r...</td>\n",
       "      <td>the cardiomediastinal silhouette is normal in ...</td>\n",
       "      <td>negative for acute abnormality</td>\n",
       "      <td>normal</td>\n",
       "      <td>normal</td>\n",
       "      <td>the cardiomediastinal silhouette is normal in ...</td>\n",
       "      <td>['normal']</td>\n",
       "      <td>normal</td>\n",
       "      <td>cardiomediastinal,silhouette,normal,size,conto...</td>\n",
       "      <td>size,effusion,contour,pleural,abnormality,pneu...</td>\n",
       "    </tr>\n",
       "    <tr>\n",
       "      <th>1</th>\n",
       "      <td>CXR810_IM-2343-1001;CXR810_IM-2343-2001</td>\n",
       "      <td>CXR810_IM-2343-1001</td>\n",
       "      <td>CXR810_IM-2343-2001</td>\n",
       "      <td>None.</td>\n",
       "      <td>chest pain</td>\n",
       "      <td>normal heart size mediastinal and aortic conto...</td>\n",
       "      <td>no evidence of active cardiopulmonary disease</td>\n",
       "      <td>Calcified Granuloma/scattered;Spine/degenerative</td>\n",
       "      <td>Calcified Granuloma;Spine</td>\n",
       "      <td>normal heart size mediastinal and aortic conto...</td>\n",
       "      <td>['calcified granuloma', 'spine']</td>\n",
       "      <td>calcified granuloma;spine</td>\n",
       "      <td>normal,heart,size,mediastinal,aortic,contour,n...</td>\n",
       "      <td>pulmonary,visible,cardiopulmonary,contour,aort...</td>\n",
       "    </tr>\n",
       "    <tr>\n",
       "      <th>2</th>\n",
       "      <td>CXR2474_IM-1003-1001</td>\n",
       "      <td>CXR2474_IM-1003-1001</td>\n",
       "      <td>NaN</td>\n",
       "      <td>NaN</td>\n",
       "      <td>Shortness of breath.</td>\n",
       "      <td>patchy interstitial infiltrates have developed...</td>\n",
       "      <td>bibasilar patchy airspace disease with bilater...</td>\n",
       "      <td>Infiltrate/lung/lower lobe/bilateral/interstit...</td>\n",
       "      <td>Infiltrate;Costophrenic Angle;Aorta;Airspace D...</td>\n",
       "      <td>patchy interstitial infiltrates have developed...</td>\n",
       "      <td>['infiltrate', 'costophrenic angle', 'aorta', ...</td>\n",
       "      <td>infiltrate;costophrenic angle;aorta;airspace d...</td>\n",
       "      <td>patchy,interstitial,infiltrate,develop,low,lob...</td>\n",
       "      <td>bilateral,pulmonary,infiltrate,pleural,normal,...</td>\n",
       "    </tr>\n",
       "    <tr>\n",
       "      <th>3</th>\n",
       "      <td>CXR632_IM-2213-1001;CXR632_IM-2213-1002</td>\n",
       "      <td>CXR632_IM-2213-1001</td>\n",
       "      <td>CXR632_IM-2213-1002</td>\n",
       "      <td>Chest x-XXXX and XXXX.</td>\n",
       "      <td>XXXX-year-old male with shortness of breath, X...</td>\n",
       "      <td>cardiac and mediastinal silhouette are unremar...</td>\n",
       "      <td>no acute cardiopulmonary abnormality</td>\n",
       "      <td>normal</td>\n",
       "      <td>normal</td>\n",
       "      <td>cardiac and mediastinal silhouette are unremar...</td>\n",
       "      <td>['normal']</td>\n",
       "      <td>normal</td>\n",
       "      <td>cardiac,mediastinal,silhouette,unremarkable,lu...</td>\n",
       "      <td>lung,cardiopulmonary,cardiac,effusion,abnormal...</td>\n",
       "    </tr>\n",
       "    <tr>\n",
       "      <th>4</th>\n",
       "      <td>CXR3101_IM-1453-1001;CXR3101_IM-1453-3001</td>\n",
       "      <td>CXR3101_IM-1453-1001</td>\n",
       "      <td>CXR3101_IM-1453-3001</td>\n",
       "      <td>None.</td>\n",
       "      <td>Multiple myeloma. Bone marrow transplant.</td>\n",
       "      <td>the heart size and pulmonary vascularity appea...</td>\n",
       "      <td>no evidence of active disease</td>\n",
       "      <td>Spine/degenerative;Stents/abdomen;Aorta, Thora...</td>\n",
       "      <td>Spine;Stents;Aorta, Thoracic;Calcified Granuloma</td>\n",
       "      <td>the heart size and pulmonary vascularity appea...</td>\n",
       "      <td>['spine', 'stents', 'aorta thoracic', 'calcifi...</td>\n",
       "      <td>spine;stents;aorta thoracic;calcified granuloma</td>\n",
       "      <td>heart,size,pulmonary,vascularity,appear,within...</td>\n",
       "      <td>limit,pulmonary,pleural,see,normal,change,gran...</td>\n",
       "    </tr>\n",
       "  </tbody>\n",
       "</table>\n",
       "</div>"
      ],
      "text/plain": [
       "                                       Image               Frontal  \\\n",
       "0  CXR3403_IM-1647-1001;CXR3403_IM-1647-2001  CXR3403_IM-1647-1001   \n",
       "1    CXR810_IM-2343-1001;CXR810_IM-2343-2001   CXR810_IM-2343-1001   \n",
       "2                       CXR2474_IM-1003-1001  CXR2474_IM-1003-1001   \n",
       "3    CXR632_IM-2213-1001;CXR632_IM-2213-1002   CXR632_IM-2213-1001   \n",
       "4  CXR3101_IM-1453-1001;CXR3101_IM-1453-3001  CXR3101_IM-1453-1001   \n",
       "\n",
       "                Lateral              Comparison  \\\n",
       "0  CXR3403_IM-1647-2001                   None.   \n",
       "1   CXR810_IM-2343-2001                   None.   \n",
       "2                   NaN                     NaN   \n",
       "3   CXR632_IM-2213-1002  Chest x-XXXX and XXXX.   \n",
       "4  CXR3101_IM-1453-3001                   None.   \n",
       "\n",
       "                                          Indication  \\\n",
       "0  XXXX-year-old female. Left chest pain. Right r...   \n",
       "1                                         chest pain   \n",
       "2                               Shortness of breath.   \n",
       "3  XXXX-year-old male with shortness of breath, X...   \n",
       "4          Multiple myeloma. Bone marrow transplant.   \n",
       "\n",
       "                                            Findings  \\\n",
       "0  the cardiomediastinal silhouette is normal in ...   \n",
       "1  normal heart size mediastinal and aortic conto...   \n",
       "2  patchy interstitial infiltrates have developed...   \n",
       "3  cardiac and mediastinal silhouette are unremar...   \n",
       "4  the heart size and pulmonary vascularity appea...   \n",
       "\n",
       "                                          Impression  \\\n",
       "0                     negative for acute abnormality   \n",
       "1      no evidence of active cardiopulmonary disease   \n",
       "2  bibasilar patchy airspace disease with bilater...   \n",
       "3               no acute cardiopulmonary abnormality   \n",
       "4                      no evidence of active disease   \n",
       "\n",
       "                                                MESH  \\\n",
       "0                                             normal   \n",
       "1   Calcified Granuloma/scattered;Spine/degenerative   \n",
       "2  Infiltrate/lung/lower lobe/bilateral/interstit...   \n",
       "3                                             normal   \n",
       "4  Spine/degenerative;Stents/abdomen;Aorta, Thora...   \n",
       "\n",
       "                                            Problems  \\\n",
       "0                                             normal   \n",
       "1                          Calcified Granuloma;Spine   \n",
       "2  Infiltrate;Costophrenic Angle;Aorta;Airspace D...   \n",
       "3                                             normal   \n",
       "4   Spine;Stents;Aorta, Thoracic;Calcified Granuloma   \n",
       "\n",
       "                                              Target  \\\n",
       "0  the cardiomediastinal silhouette is normal in ...   \n",
       "1  normal heart size mediastinal and aortic conto...   \n",
       "2  patchy interstitial infiltrates have developed...   \n",
       "3  cardiac and mediastinal silhouette are unremar...   \n",
       "4  the heart size and pulmonary vascularity appea...   \n",
       "\n",
       "                                        Problem_List  \\\n",
       "0                                         ['normal']   \n",
       "1                   ['calcified granuloma', 'spine']   \n",
       "2  ['infiltrate', 'costophrenic angle', 'aorta', ...   \n",
       "3                                         ['normal']   \n",
       "4  ['spine', 'stents', 'aorta thoracic', 'calcifi...   \n",
       "\n",
       "                                     Prepoc_Problems  \\\n",
       "0                                             normal   \n",
       "1                          calcified granuloma;spine   \n",
       "2  infiltrate;costophrenic angle;aorta;airspace d...   \n",
       "3                                             normal   \n",
       "4    spine;stents;aorta thoracic;calcified granuloma   \n",
       "\n",
       "                                       Prepoc_Target  \\\n",
       "0  cardiomediastinal,silhouette,normal,size,conto...   \n",
       "1  normal,heart,size,mediastinal,aortic,contour,n...   \n",
       "2  patchy,interstitial,infiltrate,develop,low,lob...   \n",
       "3  cardiac,mediastinal,silhouette,unremarkable,lu...   \n",
       "4  heart,size,pulmonary,vascularity,appear,within...   \n",
       "\n",
       "                                            Keywords  \n",
       "0  size,effusion,contour,pleural,abnormality,pneu...  \n",
       "1  pulmonary,visible,cardiopulmonary,contour,aort...  \n",
       "2  bilateral,pulmonary,infiltrate,pleural,normal,...  \n",
       "3  lung,cardiopulmonary,cardiac,effusion,abnormal...  \n",
       "4  limit,pulmonary,pleural,see,normal,change,gran...  "
      ]
     },
     "execution_count": 10,
     "metadata": {},
     "output_type": "execute_result"
    }
   ],
   "source": [
    "train_df.head()"
   ]
  },
  {
   "cell_type": "code",
   "execution_count": 11,
   "id": "d7ad0fd6",
   "metadata": {
    "execution": {
     "iopub.execute_input": "2022-09-13T13:13:23.366327Z",
     "iopub.status.busy": "2022-09-13T13:13:23.365532Z",
     "iopub.status.idle": "2022-09-13T13:13:23.380764Z",
     "shell.execute_reply": "2022-09-13T13:13:23.379678Z"
    },
    "papermill": {
     "duration": 0.029772,
     "end_time": "2022-09-13T13:13:23.383207",
     "exception": false,
     "start_time": "2022-09-13T13:13:23.353435",
     "status": "completed"
    },
    "tags": []
   },
   "outputs": [
    {
     "data": {
      "text/plain": [
       "2566"
      ]
     },
     "execution_count": 11,
     "metadata": {},
     "output_type": "execute_result"
    }
   ],
   "source": [
    "openi_train_img_ids = [names.split(';')[0] for names in train_df['Frontal'].values]\n",
    "openi_val_img_ids = [names.split(';')[0] for names in val_df['Frontal'].values]\n",
    "openi_test_img_ids = [names.split(';')[0] for names in test_df['Frontal'].values]\n",
    "len(openi_train_img_ids)"
   ]
  },
  {
   "cell_type": "code",
   "execution_count": 12,
   "id": "7d7bdf58",
   "metadata": {
    "execution": {
     "iopub.execute_input": "2022-09-13T13:13:23.407864Z",
     "iopub.status.busy": "2022-09-13T13:13:23.407199Z",
     "iopub.status.idle": "2022-09-13T13:13:23.531644Z",
     "shell.execute_reply": "2022-09-13T13:13:23.530746Z"
    },
    "papermill": {
     "duration": 0.139716,
     "end_time": "2022-09-13T13:13:23.534139",
     "exception": false,
     "start_time": "2022-09-13T13:13:23.394423",
     "status": "completed"
    },
    "tags": []
   },
   "outputs": [],
   "source": [
    "openi_image_word_edges = get_image_word_edges(openi_train_img_ids,train_df)"
   ]
  },
  {
   "cell_type": "code",
   "execution_count": 13,
   "id": "0545f5a0",
   "metadata": {
    "execution": {
     "iopub.execute_input": "2022-09-13T13:13:23.558207Z",
     "iopub.status.busy": "2022-09-13T13:13:23.557542Z",
     "iopub.status.idle": "2022-09-13T13:13:23.564993Z",
     "shell.execute_reply": "2022-09-13T13:13:23.563743Z"
    },
    "papermill": {
     "duration": 0.022709,
     "end_time": "2022-09-13T13:13:23.567637",
     "exception": false,
     "start_time": "2022-09-13T13:13:23.544928",
     "status": "completed"
    },
    "tags": []
   },
   "outputs": [
    {
     "data": {
      "text/plain": [
       "array([['CXR260_IM-1090-1001', 'advanced'],\n",
       "       ['CXR2015_IM-0664-2001', 'suspicious'],\n",
       "       ['CXR3673_IM-1828-1001', 'acute'],\n",
       "       ['CXR178_IM-0509-2001', 'pleural'],\n",
       "       ['CXR1346_IM-0224-4001', 'lung'],\n",
       "       ['CXR721_IM-2282-1001', 'masse'],\n",
       "       ['CXR2210_IM-0817-1001', 'cardiomediastinal'],\n",
       "       ['CXR2645_IM-1131-2001', 'cardiomediastinal'],\n",
       "       ['CXR2644_IM-1130-1001', 'finding'],\n",
       "       ['CXR934_IM-2432-1001', 'bilateral']], dtype='<U25')"
      ]
     },
     "execution_count": 13,
     "metadata": {},
     "output_type": "execute_result"
    }
   ],
   "source": [
    "openi_image_word_edges[:10]"
   ]
  },
  {
   "cell_type": "code",
   "execution_count": 14,
   "id": "55ba5e39",
   "metadata": {
    "execution": {
     "iopub.execute_input": "2022-09-13T13:13:23.591749Z",
     "iopub.status.busy": "2022-09-13T13:13:23.590850Z",
     "iopub.status.idle": "2022-09-13T13:13:23.596645Z",
     "shell.execute_reply": "2022-09-13T13:13:23.595669Z"
    },
    "papermill": {
     "duration": 0.020294,
     "end_time": "2022-09-13T13:13:23.598918",
     "exception": false,
     "start_time": "2022-09-13T13:13:23.578624",
     "status": "completed"
    },
    "tags": []
   },
   "outputs": [],
   "source": [
    "openi_img_ids,openi_id2img,openi_img2id,openi_train_idx,openi_val_idx,openi_test_idx = get_img_dict(openi_train_img_ids,\n",
    "                                                                            openi_val_img_ids,\n",
    "                                                                            openi_test_img_ids)"
   ]
  },
  {
   "cell_type": "markdown",
   "id": "6e8a5e50",
   "metadata": {
    "papermill": {
     "duration": 0.010722,
     "end_time": "2022-09-13T13:13:23.620641",
     "exception": false,
     "start_time": "2022-09-13T13:13:23.609919",
     "status": "completed"
    },
    "tags": []
   },
   "source": [
    "## Image Graph"
   ]
  },
  {
   "cell_type": "code",
   "execution_count": 15,
   "id": "88288da4",
   "metadata": {
    "execution": {
     "iopub.execute_input": "2022-09-13T13:13:23.644904Z",
     "iopub.status.busy": "2022-09-13T13:13:23.644477Z",
     "iopub.status.idle": "2022-09-13T13:13:23.662821Z",
     "shell.execute_reply": "2022-09-13T13:13:23.661927Z"
    },
    "papermill": {
     "duration": 0.033395,
     "end_time": "2022-09-13T13:13:23.665046",
     "exception": false,
     "start_time": "2022-09-13T13:13:23.631651",
     "status": "completed"
    },
    "tags": []
   },
   "outputs": [],
   "source": [
    "def read_image(img_path,transform):\n",
    "    img = skimage.io.imread(img_path)\n",
    "    img = xrv.datasets.normalize(img, 255) \n",
    "\n",
    "    # Check that images are 2D arrays\n",
    "    if len(img.shape) > 2:\n",
    "        img = img[:, :, 0]\n",
    "    if len(img.shape) < 2:\n",
    "        print(\"error, dimension lower than 2 for image\")\n",
    "\n",
    "    # Add color channel\n",
    "    img = img[None, :, :]\n",
    "    img = transform(img)\n",
    "    return img\n",
    "\n",
    "\n",
    "class ResnetDataset(Dataset):\n",
    "    def __init__(self,images,transform,img_dir):\n",
    "        self.images = images\n",
    "        self.data_dir = img_dir\n",
    "        self.tfm = transform\n",
    "    def __len__(self):\n",
    "        return len(self.images)\n",
    "    def __getitem__(self, idx):\n",
    "        img = cv2.imread(os.path.join(self.data_dir,self.images[idx]+'.png'))\n",
    "        if(self.tfm):\n",
    "            img = self.tfm(img)\n",
    "        return img\n",
    "\n",
    "\n",
    "\n",
    "class DensenetDataset(Dataset):\n",
    "    def __init__(self,images,transform,img_dir):\n",
    "        self.images = images\n",
    "        self.data_dir = img_dir\n",
    "        self.tfm = transform\n",
    "    def __len__(self):\n",
    "        return len(self.images)\n",
    "    def __getitem__(self, idx):\n",
    "        img = read_image(os.path.join(self.data_dir,self.images[idx]+'.png'),self.tfm)\n",
    "        return torch.tensor(img,dtype=torch.float32)\n",
    "    \n",
    "    \n",
    "class Resnet(nn.Module):\n",
    "    def __init__(self):\n",
    "        super().__init__()\n",
    "        self.model = models.resnet152(pretrained=True)\n",
    "        modules2 = list(self.model.children())[:-2]\n",
    "        self.fix2 = nn.Sequential(*modules2)\n",
    "        for p in self.model.parameters():\n",
    "            p.requires_grad=False\n",
    "        self.gap = nn.AdaptiveAvgPool2d((1,1))\n",
    "    def forward(self, x):\n",
    "        img_feats = self.fix2(x)\n",
    "        img_feats = self.gap(img_feats).squeeze(3).squeeze(2)\n",
    "        return img_feats\n",
    "    \n",
    "    \n",
    "    \n",
    "class Densenet(nn.Module):\n",
    "    def __init__(self):\n",
    "        super().__init__()\n",
    "        self.model = xrv.models.DenseNet(weights=\"densenet121-res224-all\")\n",
    "        modules2 = list(self.model.children())[:-2]\n",
    "        self.fix2 = nn.Sequential(*modules2)\n",
    "        for p in self.model.parameters():\n",
    "            p.requires_grad=False\n",
    "        self.gap = nn.AdaptiveAvgPool2d((1,1))\n",
    "    def forward(self, x):\n",
    "        img_feats = self.fix2(x)\n",
    "        img_feats = self.gap(img_feats).squeeze(3).squeeze(2)\n",
    "        return img_feats"
   ]
  },
  {
   "cell_type": "code",
   "execution_count": 16,
   "id": "59c06e73",
   "metadata": {
    "execution": {
     "iopub.execute_input": "2022-09-13T13:13:23.689327Z",
     "iopub.status.busy": "2022-09-13T13:13:23.688240Z",
     "iopub.status.idle": "2022-09-13T13:13:23.693525Z",
     "shell.execute_reply": "2022-09-13T13:13:23.692387Z"
    },
    "papermill": {
     "duration": 0.019662,
     "end_time": "2022-09-13T13:13:23.695765",
     "exception": false,
     "start_time": "2022-09-13T13:13:23.676103",
     "status": "completed"
    },
    "tags": []
   },
   "outputs": [],
   "source": [
    "\n",
    "# dataset = DensenetDataset(openi_img_ids,transform,img_dir)\n",
    "# img = dataset.__getitem__(0)\n",
    "# print(img.shape)\n",
    "# plt.imshow(img.squeeze(0),cmap='gray')"
   ]
  },
  {
   "cell_type": "code",
   "execution_count": 17,
   "id": "3024f96c",
   "metadata": {
    "execution": {
     "iopub.execute_input": "2022-09-13T13:13:23.721040Z",
     "iopub.status.busy": "2022-09-13T13:13:23.720383Z",
     "iopub.status.idle": "2022-09-13T13:13:28.520175Z",
     "shell.execute_reply": "2022-09-13T13:13:28.518840Z"
    },
    "papermill": {
     "duration": 4.816835,
     "end_time": "2022-09-13T13:13:28.523649",
     "exception": false,
     "start_time": "2022-09-13T13:13:23.706814",
     "status": "completed"
    },
    "tags": []
   },
   "outputs": [
    {
     "name": "stdout",
     "output_type": "stream",
     "text": [
      "Downloading weights...\n",
      "If this fails you can run `wget https://github.com/mlmed/torchxrayvision/releases/download/v1/nih-pc-chex-mimic_ch-google-openi-kaggle-densenet121-d121-tw-lr001-rot45-tr15-sc15-seed0-best.pt -O /root/.torchxrayvision/models_data/nih-pc-chex-mimic_ch-google-openi-kaggle-densenet121-d121-tw-lr001-rot45-tr15-sc15-seed0-best.pt`\n",
      "[██████████████████████████████████████████████████]\n"
     ]
    }
   ],
   "source": [
    "# model = Resnet()\n",
    "model = Densenet()\n",
    "model = model.to(device)"
   ]
  },
  {
   "cell_type": "code",
   "execution_count": 18,
   "id": "06970784",
   "metadata": {
    "execution": {
     "iopub.execute_input": "2022-09-13T13:13:28.552085Z",
     "iopub.status.busy": "2022-09-13T13:13:28.551335Z",
     "iopub.status.idle": "2022-09-13T13:13:28.558477Z",
     "shell.execute_reply": "2022-09-13T13:13:28.556908Z"
    },
    "papermill": {
     "duration": 0.023865,
     "end_time": "2022-09-13T13:13:28.561057",
     "exception": false,
     "start_time": "2022-09-13T13:13:28.537192",
     "status": "completed"
    },
    "tags": []
   },
   "outputs": [
    {
     "name": "stdout",
     "output_type": "stream",
     "text": [
      "Setting XRayResizer engine to cv2 could increase performance.\n"
     ]
    }
   ],
   "source": [
    "transform = transforms.Compose([xrv.datasets.XRayCenterCrop(),\n",
    "                                                xrv.datasets.XRayResizer(224)])\n",
    "\n",
    "# transform = transforms.Compose([transforms.Resize((224,224)),\n",
    "#                             transforms.ToTensor()])\n",
    "\n",
    "openi_img_dataset = DensenetDataset(openi_img_ids,transform,img_dir)\n",
    "openi_img_dataloader =  DataLoader(openi_img_dataset, batch_size = 8, shuffle=False)"
   ]
  },
  {
   "cell_type": "code",
   "execution_count": 19,
   "id": "3897fe23",
   "metadata": {
    "execution": {
     "iopub.execute_input": "2022-09-13T13:13:28.588924Z",
     "iopub.status.busy": "2022-09-13T13:13:28.588512Z",
     "iopub.status.idle": "2022-09-13T13:32:32.152639Z",
     "shell.execute_reply": "2022-09-13T13:32:32.151313Z"
    },
    "papermill": {
     "duration": 1143.59369,
     "end_time": "2022-09-13T13:32:32.168008",
     "exception": false,
     "start_time": "2022-09-13T13:13:28.574318",
     "status": "completed"
    },
    "tags": []
   },
   "outputs": [
    {
     "name": "stdout",
     "output_type": "stream",
     "text": [
      "(3665, 1024)\n"
     ]
    }
   ],
   "source": [
    "openi_img_feats = []\n",
    "for img in openi_img_dataloader:\n",
    "    model.eval()\n",
    "    img = img.to(device)\n",
    "    img_feat = model(img)\n",
    "    openi_img_feats.append(img_feat)\n",
    "openi_img_feats = torch.cat(openi_img_feats).detach().cpu().numpy()\n",
    "\n",
    "print(openi_img_feats.shape)"
   ]
  },
  {
   "cell_type": "code",
   "execution_count": 20,
   "id": "a6c31948",
   "metadata": {
    "execution": {
     "iopub.execute_input": "2022-09-13T13:32:32.195737Z",
     "iopub.status.busy": "2022-09-13T13:32:32.195336Z",
     "iopub.status.idle": "2022-09-13T13:32:32.214404Z",
     "shell.execute_reply": "2022-09-13T13:32:32.213320Z"
    },
    "papermill": {
     "duration": 0.035965,
     "end_time": "2022-09-13T13:32:32.216879",
     "exception": false,
     "start_time": "2022-09-13T13:32:32.180914",
     "status": "completed"
    },
    "tags": []
   },
   "outputs": [],
   "source": [
    "np.save('openi_img_feats.npy', openi_img_feats) # save"
   ]
  },
  {
   "cell_type": "code",
   "execution_count": 21,
   "id": "4f52e83d",
   "metadata": {
    "execution": {
     "iopub.execute_input": "2022-09-13T13:32:32.245755Z",
     "iopub.status.busy": "2022-09-13T13:32:32.244651Z",
     "iopub.status.idle": "2022-09-13T13:32:32.256946Z",
     "shell.execute_reply": "2022-09-13T13:32:32.255921Z"
    },
    "papermill": {
     "duration": 0.029172,
     "end_time": "2022-09-13T13:32:32.259495",
     "exception": false,
     "start_time": "2022-09-13T13:32:32.230323",
     "status": "completed"
    },
    "tags": []
   },
   "outputs": [],
   "source": [
    "with open('openi_id2img.pkl', 'wb') as f:\n",
    "    pickle.dump(openi_id2img, f)\n",
    "\n",
    "with open('openi_img2id.pkl', 'wb') as f:\n",
    "    pickle.dump(openi_img2id, f)\n",
    "    \n",
    "with open('openi_img_ids', 'wb') as f:\n",
    "    pickle.dump(openi_img_ids, f)\n",
    "\n",
    "with open('openi_train_img_ids', 'wb') as f:\n",
    "    pickle.dump(openi_train_img_ids, f)\n",
    "    \n",
    "with open('openi_val_img_ids', 'wb') as f:\n",
    "    pickle.dump(openi_val_img_ids, f)\n",
    "\n",
    "with open('openi_test_img_ids', 'wb') as f:\n",
    "    pickle.dump(openi_test_img_ids, f)"
   ]
  },
  {
   "cell_type": "code",
   "execution_count": 22,
   "id": "2ae7a351",
   "metadata": {
    "execution": {
     "iopub.execute_input": "2022-09-13T13:32:32.288601Z",
     "iopub.status.busy": "2022-09-13T13:32:32.287888Z",
     "iopub.status.idle": "2022-09-13T13:32:32.304303Z",
     "shell.execute_reply": "2022-09-13T13:32:32.303298Z"
    },
    "papermill": {
     "duration": 0.034124,
     "end_time": "2022-09-13T13:32:32.306849",
     "exception": false,
     "start_time": "2022-09-13T13:32:32.272725",
     "status": "completed"
    },
    "tags": []
   },
   "outputs": [],
   "source": [
    "np.save('openi_train_img_idx.npy', openi_train_idx)\n",
    "np.save('openi_val_img_idx.npy', openi_val_idx)\n",
    "np.save('openi_test_img_idx.npy', openi_test_idx)\n",
    "\n",
    "np.save('openi_image_word_edges.npy',openi_image_word_edges)"
   ]
  },
  {
   "cell_type": "code",
   "execution_count": null,
   "id": "07d2c330",
   "metadata": {
    "papermill": {
     "duration": 0.012812,
     "end_time": "2022-09-13T13:32:32.332985",
     "exception": false,
     "start_time": "2022-09-13T13:32:32.320173",
     "status": "completed"
    },
    "tags": []
   },
   "outputs": [],
   "source": []
  }
 ],
 "metadata": {
  "kernelspec": {
   "display_name": "Python 3",
   "language": "python",
   "name": "python3"
  },
  "language_info": {
   "codemirror_mode": {
    "name": "ipython",
    "version": 3
   },
   "file_extension": ".py",
   "mimetype": "text/x-python",
   "name": "python",
   "nbconvert_exporter": "python",
   "pygments_lexer": "ipython3",
   "version": "3.7.12"
  },
  "papermill": {
   "default_parameters": {},
   "duration": 1208.789974,
   "end_time": "2022-09-13T13:32:35.089913",
   "environment_variables": {},
   "exception": null,
   "input_path": "__notebook__.ipynb",
   "output_path": "__notebook__.ipynb",
   "parameters": {},
   "start_time": "2022-09-13T13:12:26.299939",
   "version": "2.3.4"
  }
 },
 "nbformat": 4,
 "nbformat_minor": 5
}
