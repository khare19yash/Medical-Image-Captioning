{
  "cells": [
    {
      "cell_type": "code",
      "execution_count": null,
      "metadata": {
        "colab": {
          "base_uri": "https://localhost:8080/"
        },
        "id": "JatSo4224Bl6",
        "outputId": "0bead542-e984-4afd-c067-ded19ba53d02"
      },
      "outputs": [
        {
          "output_type": "stream",
          "name": "stdout",
          "text": [
            "Drive already mounted at /content/drive; to attempt to forcibly remount, call drive.mount(\"/content/drive\", force_remount=True).\n"
          ]
        }
      ],
      "source": [
        "from google.colab import drive\n",
        "drive.mount('/content/drive')"
      ]
    },
    {
      "cell_type": "code",
      "execution_count": null,
      "metadata": {
        "colab": {
          "base_uri": "https://localhost:8080/"
        },
        "id": "A6u2C_0b1ESx",
        "outputId": "b3d72f40-1725-4d57-f3f9-5349f36eee58"
      },
      "outputs": [
        {
          "output_type": "stream",
          "name": "stdout",
          "text": [
            "Looking in indexes: https://pypi.org/simple, https://us-python.pkg.dev/colab-wheels/public/simple/\n",
            "Collecting scann\n",
            "  Downloading scann-1.2.7-cp37-cp37m-manylinux_2_27_x86_64.whl (11.2 MB)\n",
            "\u001b[K     |████████████████████████████████| 11.2 MB 14.2 MB/s \n",
            "\u001b[?25hRequirement already satisfied: six in /usr/local/lib/python3.7/dist-packages (from scann) (1.15.0)\n",
            "Requirement already satisfied: numpy in /usr/local/lib/python3.7/dist-packages (from scann) (1.21.6)\n",
            "Collecting tensorflow~=2.9.0\n",
            "  Downloading tensorflow-2.9.2-cp37-cp37m-manylinux_2_17_x86_64.manylinux2014_x86_64.whl (511.8 MB)\n",
            "\u001b[K     |████████████████████████████████| 511.8 MB 9.5 kB/s \n",
            "\u001b[?25hRequirement already satisfied: libclang>=13.0.0 in /usr/local/lib/python3.7/dist-packages (from tensorflow~=2.9.0->scann) (14.0.6)\n",
            "Collecting tensorflow-estimator<2.10.0,>=2.9.0rc0\n",
            "  Downloading tensorflow_estimator-2.9.0-py2.py3-none-any.whl (438 kB)\n",
            "\u001b[K     |████████████████████████████████| 438 kB 66.8 MB/s \n",
            "\u001b[?25hCollecting flatbuffers<2,>=1.12\n",
            "  Downloading flatbuffers-1.12-py2.py3-none-any.whl (15 kB)\n",
            "Collecting tensorboard<2.10,>=2.9\n",
            "  Downloading tensorboard-2.9.1-py3-none-any.whl (5.8 MB)\n",
            "\u001b[K     |████████████████████████████████| 5.8 MB 38.7 MB/s \n",
            "\u001b[?25hRequirement already satisfied: wrapt>=1.11.0 in /usr/local/lib/python3.7/dist-packages (from tensorflow~=2.9.0->scann) (1.14.1)\n",
            "Requirement already satisfied: tensorflow-io-gcs-filesystem>=0.23.1 in /usr/local/lib/python3.7/dist-packages (from tensorflow~=2.9.0->scann) (0.26.0)\n",
            "Requirement already satisfied: keras-preprocessing>=1.1.1 in /usr/local/lib/python3.7/dist-packages (from tensorflow~=2.9.0->scann) (1.1.2)\n",
            "Requirement already satisfied: astunparse>=1.6.0 in /usr/local/lib/python3.7/dist-packages (from tensorflow~=2.9.0->scann) (1.6.3)\n",
            "Collecting keras<2.10.0,>=2.9.0rc0\n",
            "  Downloading keras-2.9.0-py2.py3-none-any.whl (1.6 MB)\n",
            "\u001b[K     |████████████████████████████████| 1.6 MB 63.9 MB/s \n",
            "\u001b[?25hRequirement already satisfied: typing-extensions>=3.6.6 in /usr/local/lib/python3.7/dist-packages (from tensorflow~=2.9.0->scann) (4.1.1)\n",
            "Requirement already satisfied: h5py>=2.9.0 in /usr/local/lib/python3.7/dist-packages (from tensorflow~=2.9.0->scann) (3.1.0)\n",
            "Requirement already satisfied: protobuf<3.20,>=3.9.2 in /usr/local/lib/python3.7/dist-packages (from tensorflow~=2.9.0->scann) (3.17.3)\n",
            "Requirement already satisfied: absl-py>=1.0.0 in /usr/local/lib/python3.7/dist-packages (from tensorflow~=2.9.0->scann) (1.2.0)\n",
            "Requirement already satisfied: google-pasta>=0.1.1 in /usr/local/lib/python3.7/dist-packages (from tensorflow~=2.9.0->scann) (0.2.0)\n",
            "Collecting gast<=0.4.0,>=0.2.1\n",
            "  Downloading gast-0.4.0-py3-none-any.whl (9.8 kB)\n",
            "Requirement already satisfied: grpcio<2.0,>=1.24.3 in /usr/local/lib/python3.7/dist-packages (from tensorflow~=2.9.0->scann) (1.47.0)\n",
            "Requirement already satisfied: setuptools in /usr/local/lib/python3.7/dist-packages (from tensorflow~=2.9.0->scann) (57.4.0)\n",
            "Requirement already satisfied: termcolor>=1.1.0 in /usr/local/lib/python3.7/dist-packages (from tensorflow~=2.9.0->scann) (1.1.0)\n",
            "Requirement already satisfied: opt-einsum>=2.3.2 in /usr/local/lib/python3.7/dist-packages (from tensorflow~=2.9.0->scann) (3.3.0)\n",
            "Requirement already satisfied: packaging in /usr/local/lib/python3.7/dist-packages (from tensorflow~=2.9.0->scann) (21.3)\n",
            "Requirement already satisfied: wheel<1.0,>=0.23.0 in /usr/local/lib/python3.7/dist-packages (from astunparse>=1.6.0->tensorflow~=2.9.0->scann) (0.37.1)\n",
            "Requirement already satisfied: cached-property in /usr/local/lib/python3.7/dist-packages (from h5py>=2.9.0->tensorflow~=2.9.0->scann) (1.5.2)\n",
            "Requirement already satisfied: tensorboard-data-server<0.7.0,>=0.6.0 in /usr/local/lib/python3.7/dist-packages (from tensorboard<2.10,>=2.9->tensorflow~=2.9.0->scann) (0.6.1)\n",
            "Requirement already satisfied: google-auth-oauthlib<0.5,>=0.4.1 in /usr/local/lib/python3.7/dist-packages (from tensorboard<2.10,>=2.9->tensorflow~=2.9.0->scann) (0.4.6)\n",
            "Requirement already satisfied: markdown>=2.6.8 in /usr/local/lib/python3.7/dist-packages (from tensorboard<2.10,>=2.9->tensorflow~=2.9.0->scann) (3.4.1)\n",
            "Requirement already satisfied: tensorboard-plugin-wit>=1.6.0 in /usr/local/lib/python3.7/dist-packages (from tensorboard<2.10,>=2.9->tensorflow~=2.9.0->scann) (1.8.1)\n",
            "Requirement already satisfied: google-auth<3,>=1.6.3 in /usr/local/lib/python3.7/dist-packages (from tensorboard<2.10,>=2.9->tensorflow~=2.9.0->scann) (1.35.0)\n",
            "Requirement already satisfied: werkzeug>=1.0.1 in /usr/local/lib/python3.7/dist-packages (from tensorboard<2.10,>=2.9->tensorflow~=2.9.0->scann) (1.0.1)\n",
            "Requirement already satisfied: requests<3,>=2.21.0 in /usr/local/lib/python3.7/dist-packages (from tensorboard<2.10,>=2.9->tensorflow~=2.9.0->scann) (2.23.0)\n",
            "Requirement already satisfied: cachetools<5.0,>=2.0.0 in /usr/local/lib/python3.7/dist-packages (from google-auth<3,>=1.6.3->tensorboard<2.10,>=2.9->tensorflow~=2.9.0->scann) (4.2.4)\n",
            "Requirement already satisfied: pyasn1-modules>=0.2.1 in /usr/local/lib/python3.7/dist-packages (from google-auth<3,>=1.6.3->tensorboard<2.10,>=2.9->tensorflow~=2.9.0->scann) (0.2.8)\n",
            "Requirement already satisfied: rsa<5,>=3.1.4 in /usr/local/lib/python3.7/dist-packages (from google-auth<3,>=1.6.3->tensorboard<2.10,>=2.9->tensorflow~=2.9.0->scann) (4.9)\n",
            "Requirement already satisfied: requests-oauthlib>=0.7.0 in /usr/local/lib/python3.7/dist-packages (from google-auth-oauthlib<0.5,>=0.4.1->tensorboard<2.10,>=2.9->tensorflow~=2.9.0->scann) (1.3.1)\n",
            "Requirement already satisfied: importlib-metadata>=4.4 in /usr/local/lib/python3.7/dist-packages (from markdown>=2.6.8->tensorboard<2.10,>=2.9->tensorflow~=2.9.0->scann) (4.12.0)\n",
            "Requirement already satisfied: zipp>=0.5 in /usr/local/lib/python3.7/dist-packages (from importlib-metadata>=4.4->markdown>=2.6.8->tensorboard<2.10,>=2.9->tensorflow~=2.9.0->scann) (3.8.1)\n",
            "Requirement already satisfied: pyasn1<0.5.0,>=0.4.6 in /usr/local/lib/python3.7/dist-packages (from pyasn1-modules>=0.2.1->google-auth<3,>=1.6.3->tensorboard<2.10,>=2.9->tensorflow~=2.9.0->scann) (0.4.8)\n",
            "Requirement already satisfied: idna<3,>=2.5 in /usr/local/lib/python3.7/dist-packages (from requests<3,>=2.21.0->tensorboard<2.10,>=2.9->tensorflow~=2.9.0->scann) (2.10)\n",
            "Requirement already satisfied: certifi>=2017.4.17 in /usr/local/lib/python3.7/dist-packages (from requests<3,>=2.21.0->tensorboard<2.10,>=2.9->tensorflow~=2.9.0->scann) (2022.6.15)\n",
            "Requirement already satisfied: urllib3!=1.25.0,!=1.25.1,<1.26,>=1.21.1 in /usr/local/lib/python3.7/dist-packages (from requests<3,>=2.21.0->tensorboard<2.10,>=2.9->tensorflow~=2.9.0->scann) (1.24.3)\n",
            "Requirement already satisfied: chardet<4,>=3.0.2 in /usr/local/lib/python3.7/dist-packages (from requests<3,>=2.21.0->tensorboard<2.10,>=2.9->tensorflow~=2.9.0->scann) (3.0.4)\n",
            "Requirement already satisfied: oauthlib>=3.0.0 in /usr/local/lib/python3.7/dist-packages (from requests-oauthlib>=0.7.0->google-auth-oauthlib<0.5,>=0.4.1->tensorboard<2.10,>=2.9->tensorflow~=2.9.0->scann) (3.2.0)\n",
            "Requirement already satisfied: pyparsing!=3.0.5,>=2.0.2 in /usr/local/lib/python3.7/dist-packages (from packaging->tensorflow~=2.9.0->scann) (3.0.9)\n",
            "Installing collected packages: tensorflow-estimator, tensorboard, keras, gast, flatbuffers, tensorflow, scann\n",
            "  Attempting uninstall: tensorflow-estimator\n",
            "    Found existing installation: tensorflow-estimator 2.8.0\n",
            "    Uninstalling tensorflow-estimator-2.8.0:\n",
            "      Successfully uninstalled tensorflow-estimator-2.8.0\n",
            "  Attempting uninstall: tensorboard\n",
            "    Found existing installation: tensorboard 2.8.0\n",
            "    Uninstalling tensorboard-2.8.0:\n",
            "      Successfully uninstalled tensorboard-2.8.0\n",
            "  Attempting uninstall: keras\n",
            "    Found existing installation: keras 2.8.0\n",
            "    Uninstalling keras-2.8.0:\n",
            "      Successfully uninstalled keras-2.8.0\n",
            "  Attempting uninstall: gast\n",
            "    Found existing installation: gast 0.5.3\n",
            "    Uninstalling gast-0.5.3:\n",
            "      Successfully uninstalled gast-0.5.3\n",
            "  Attempting uninstall: flatbuffers\n",
            "    Found existing installation: flatbuffers 2.0.7\n",
            "    Uninstalling flatbuffers-2.0.7:\n",
            "      Successfully uninstalled flatbuffers-2.0.7\n",
            "  Attempting uninstall: tensorflow\n",
            "    Found existing installation: tensorflow 2.8.2+zzzcolab20220719082949\n",
            "    Uninstalling tensorflow-2.8.2+zzzcolab20220719082949:\n",
            "      Successfully uninstalled tensorflow-2.8.2+zzzcolab20220719082949\n",
            "Successfully installed flatbuffers-1.12 gast-0.4.0 keras-2.9.0 scann-1.2.7 tensorboard-2.9.1 tensorflow-2.9.2 tensorflow-estimator-2.9.0\n"
          ]
        }
      ],
      "source": [
        "pip install scann"
      ]
    },
    {
      "cell_type": "code",
      "execution_count": null,
      "metadata": {
        "id": "1ICxLoPI1Gc-"
      },
      "outputs": [],
      "source": [
        "import numpy as np\n",
        "import h5py\n",
        "import os\n",
        "import requests\n",
        "import tempfile\n",
        "import time\n",
        "import pickle\n",
        "\n",
        "import scann"
      ]
    },
    {
      "cell_type": "code",
      "execution_count": null,
      "metadata": {
        "colab": {
          "base_uri": "https://localhost:8080/"
        },
        "id": "Z4hkugUe8U2V",
        "outputId": "d0305f60-0646-4dfe-8b62-0cefdb50c241"
      },
      "outputs": [
        {
          "output_type": "stream",
          "name": "stdout",
          "text": [
            "(2566, 1024)\n",
            "(366, 1024)\n",
            "(733, 1024)\n"
          ]
        }
      ],
      "source": [
        "data_dir = '/content/drive/MyDrive/MedImageCap/openi_image_embed_new/'\n",
        "\n",
        "openi_feats = np.load(data_dir + 'openi_img_feats.npy',allow_pickle=True)\n",
        "\n",
        "# openi_feats = openi_feats / np.linalg.norm(openi_feats, axis=1)[:, np.newaxis]\n",
        "\n",
        "train_idx = np.load(data_dir + 'openi_train_img_idx.npy',allow_pickle=True)\n",
        "val_idx = np.load(data_dir + 'openi_val_img_idx.npy',allow_pickle=True)\n",
        "test_idx = np.load(data_dir + 'openi_test_img_idx.npy',allow_pickle=True)\n",
        "\n",
        "\n",
        "train_feats = openi_feats[train_idx]\n",
        "val_feats = openi_feats[val_idx]\n",
        "test_feats = openi_feats[test_idx]\n",
        "\n",
        "\n",
        "with open( data_dir + 'openi_img_ids', 'rb') as f:\n",
        "  openi_img_ids = pickle.load(f)\n",
        "\n",
        "\n",
        "with open( data_dir + 'openi_train_img_ids', 'rb') as f:\n",
        "  train_img_ids = pickle.load(f)\n",
        "\n",
        "with open( data_dir + 'openi_val_img_ids', 'rb') as f:\n",
        "  val_img_ids = pickle.load(f)\n",
        "\n",
        "with open( data_dir + 'openi_test_img_ids', 'rb') as f:\n",
        "  test_img_ids = pickle.load(f)\n",
        "\n",
        "print(train_feats.shape)\n",
        "print(val_feats.shape)\n",
        "print(test_feats.shape)"
      ]
    },
    {
      "cell_type": "code",
      "execution_count": null,
      "metadata": {
        "colab": {
          "base_uri": "https://localhost:8080/",
          "height": 37
        },
        "id": "a6jgqqecyBQ8",
        "outputId": "aeda5974-a964-4409-995f-0761c251e57d"
      },
      "outputs": [
        {
          "output_type": "execute_result",
          "data": {
            "text/plain": [
              "'CXR3403_IM-1647-1001'"
            ],
            "application/vnd.google.colaboratory.intrinsic+json": {
              "type": "string"
            }
          },
          "metadata": {},
          "execution_count": 6
        }
      ],
      "source": [
        "train_img_ids[0]"
      ]
    },
    {
      "cell_type": "code",
      "execution_count": null,
      "metadata": {
        "colab": {
          "base_uri": "https://localhost:8080/",
          "height": 37
        },
        "id": "-2ljfcNloRHR",
        "outputId": "d6093899-0cf9-4d5a-ca7d-406a47de8f5d"
      },
      "outputs": [
        {
          "output_type": "execute_result",
          "data": {
            "text/plain": [
              "'CXR3518_IM-1717-1001'"
            ],
            "application/vnd.google.colaboratory.intrinsic+json": {
              "type": "string"
            }
          },
          "metadata": {},
          "execution_count": 7
        }
      ],
      "source": [
        "val_img_ids[0]"
      ]
    },
    {
      "cell_type": "code",
      "execution_count": null,
      "metadata": {
        "id": "TYzif1IPoNTv"
      },
      "outputs": [],
      "source": []
    },
    {
      "cell_type": "code",
      "execution_count": null,
      "metadata": {
        "colab": {
          "base_uri": "https://localhost:8080/"
        },
        "id": "eKLQGkV-2Bnz",
        "outputId": "4cec1b5e-cc35-4b95-b778-9b0371a4b294"
      },
      "outputs": [
        {
          "output_type": "stream",
          "name": "stdout",
          "text": [
            "-1.4169394\n",
            "1.1799977\n"
          ]
        }
      ],
      "source": [
        "print(np.min(train_feats[0]))\n",
        "print(np.max(train_feats[0]))"
      ]
    },
    {
      "cell_type": "code",
      "execution_count": null,
      "metadata": {
        "id": "uZNx98R61uqw"
      },
      "outputs": [],
      "source": [
        "normalized_dataset = train_feats / np.linalg.norm(train_feats, axis=1)[:, np.newaxis]\n",
        "\n",
        "# normalized_train = train_feats"
      ]
    },
    {
      "cell_type": "code",
      "execution_count": null,
      "metadata": {
        "colab": {
          "base_uri": "https://localhost:8080/"
        },
        "id": "ONjfybY_2ajS",
        "outputId": "55fb1e5b-18a0-4041-e621-b6abcd44e505"
      },
      "outputs": [
        {
          "output_type": "execute_result",
          "data": {
            "text/plain": [
              "(2566, 1024)"
            ]
          },
          "metadata": {},
          "execution_count": 10
        }
      ],
      "source": [
        "normalized_dataset.shape"
      ]
    },
    {
      "cell_type": "code",
      "execution_count": null,
      "metadata": {
        "colab": {
          "base_uri": "https://localhost:8080/"
        },
        "id": "BIbUt6-92WvF",
        "outputId": "4b97e3e8-46c7-49a3-a684-0d73372b841c"
      },
      "outputs": [
        {
          "output_type": "stream",
          "name": "stdout",
          "text": [
            "-0.10882849\n",
            "0.090630114\n"
          ]
        }
      ],
      "source": [
        "print(np.min(normalized_dataset[0]))\n",
        "print(np.max(normalized_dataset[0]))"
      ]
    },
    {
      "cell_type": "code",
      "execution_count": null,
      "metadata": {
        "id": "d8Z9cD472Uau"
      },
      "outputs": [],
      "source": [
        "searcher = scann.scann_ops_pybind.builder(normalized_dataset, 6, \"dot_product\").tree(\n",
        "    num_leaves=2000, num_leaves_to_search=100, training_sample_size=10000).score_ah(\n",
        "    2, anisotropic_quantization_threshold=0.2).reorder(100).build()"
      ]
    },
    {
      "cell_type": "code",
      "execution_count": null,
      "metadata": {
        "id": "tv4usAqY1xgx"
      },
      "outputs": [],
      "source": [
        "# increasing the leaves to search increases recall at the cost of speed\n",
        "start = time.time()\n",
        "train_neighbors, train_distances = searcher.search_batched(train_feats, leaves_to_search=200)\n",
        "end = time.time()"
      ]
    },
    {
      "cell_type": "code",
      "execution_count": null,
      "metadata": {
        "colab": {
          "base_uri": "https://localhost:8080/"
        },
        "id": "_bagyGuq3gfY",
        "outputId": "1f9e92d5-e2ad-4993-a66c-3c87b12f67ad"
      },
      "outputs": [
        {
          "output_type": "execute_result",
          "data": {
            "text/plain": [
              "(2566, 6)"
            ]
          },
          "metadata": {},
          "execution_count": 14
        }
      ],
      "source": [
        "train_neighbors.shape"
      ]
    },
    {
      "cell_type": "code",
      "execution_count": null,
      "metadata": {
        "id": "HcfDHSeTcSeO"
      },
      "outputs": [],
      "source": [
        "searcher = scann.scann_ops_pybind.builder(normalized_dataset, 5, \"dot_product\").tree(\n",
        "    num_leaves=2000, num_leaves_to_search=100, training_sample_size=10000).score_ah(\n",
        "    2, anisotropic_quantization_threshold=0.2).reorder(100).build()"
      ]
    },
    {
      "cell_type": "code",
      "execution_count": null,
      "metadata": {
        "id": "WWkV9ddkAaLP"
      },
      "outputs": [],
      "source": [
        "start = time.time()\n",
        "val_neighbors, val_distances = searcher.search_batched(val_feats, leaves_to_search=200)\n",
        "end = time.time()"
      ]
    },
    {
      "cell_type": "code",
      "execution_count": null,
      "metadata": {
        "colab": {
          "base_uri": "https://localhost:8080/"
        },
        "id": "nl8TzDURAzUY",
        "outputId": "b3105a7d-bb52-468e-d3ed-669086af8e52"
      },
      "outputs": [
        {
          "output_type": "execute_result",
          "data": {
            "text/plain": [
              "(366, 5)"
            ]
          },
          "metadata": {},
          "execution_count": 17
        }
      ],
      "source": [
        "val_neighbors.shape"
      ]
    },
    {
      "cell_type": "code",
      "execution_count": null,
      "metadata": {
        "id": "j0-49IBB8_IY"
      },
      "outputs": [],
      "source": [
        "start = time.time()\n",
        "test_neighbors, test_distances = searcher.search_batched(test_feats, leaves_to_search=150)\n",
        "end = time.time()"
      ]
    },
    {
      "cell_type": "code",
      "execution_count": null,
      "metadata": {
        "colab": {
          "base_uri": "https://localhost:8080/"
        },
        "id": "dMEoWUvc9CTR",
        "outputId": "166d9169-87d2-4535-a012-71bb3afd3668"
      },
      "outputs": [
        {
          "output_type": "execute_result",
          "data": {
            "text/plain": [
              "(733, 5)"
            ]
          },
          "metadata": {},
          "execution_count": 19
        }
      ],
      "source": [
        "test_neighbors.shape"
      ]
    },
    {
      "cell_type": "code",
      "execution_count": null,
      "metadata": {
        "id": "ff0g3ua0BnmF"
      },
      "outputs": [],
      "source": [
        "def get_image_edge_index(neighbours,distances,train_img_ids,val_img_ids=None,data='train'):\n",
        "    \n",
        "    n,m = neighbours.shape\n",
        "    edges = []\n",
        "    edge_weights = []\n",
        "    for i in range(n):\n",
        "        for j in range(m):\n",
        "            if(data == 'train'):\n",
        "                if(i != neighbours[i][j]):\n",
        "                    edges.append([train_img_ids[i],train_img_ids[neighbours[i][j]]])\n",
        "                    edge_weights.append(distances[i][j])\n",
        "            else:\n",
        "                edges.append([val_img_ids[i],train_img_ids[neighbours[i][j]]])\n",
        "                edge_weights.append(distances[i][j])\n",
        "                \n",
        "    return np.array(edges),np.array(edge_weights)"
      ]
    },
    {
      "cell_type": "code",
      "execution_count": null,
      "metadata": {
        "id": "AJhck-9o-E48"
      },
      "outputs": [],
      "source": [
        "train_img_edges,train_img_edge_weights = get_image_edge_index(train_neighbors,train_distances,train_img_ids)\n",
        "val_img_edges,val_img_edge_weights = get_image_edge_index(val_neighbors,val_distances,train_img_ids,val_img_ids,data='val')\n",
        "test_img_edges,test_img_edge_weights = get_image_edge_index(test_neighbors,test_distances,train_img_ids,test_img_ids,data='test')"
      ]
    },
    {
      "cell_type": "code",
      "execution_count": null,
      "metadata": {
        "id": "-P6KtisH8w2W"
      },
      "outputs": [],
      "source": [
        "np.save(data_dir + 'openi_train_img_neighbours',train_neighbors)\n",
        "np.save(data_dir + 'openi_val_img_neighbours',val_neighbors)\n",
        "np.save(data_dir + 'openi_test_img_neighbours',test_neighbors)\n",
        "\n",
        "\n",
        "np.save(data_dir + 'openi_train_img_edges',train_img_edges)\n",
        "np.save(data_dir + 'openi_val_img_edges',val_img_edges)\n",
        "np.save(data_dir + 'openi_test_img_edges',test_img_edges)\n",
        "\n",
        "np.save(data_dir + 'openi_train_img_edge_weights',train_img_edge_weights)\n",
        "np.save(data_dir + 'openi_val_img_edge_weights',val_img_edge_weights)\n",
        "np.save(data_dir + 'openi_test_img_edge_weights',test_img_edge_weights)"
      ]
    },
    {
      "cell_type": "code",
      "execution_count": null,
      "metadata": {
        "colab": {
          "base_uri": "https://localhost:8080/"
        },
        "id": "y9sK6WtyimCj",
        "outputId": "2b22ede6-6b97-4431-8ac9-a9310b679a18"
      },
      "outputs": [
        {
          "output_type": "execute_result",
          "data": {
            "text/plain": [
              "array([13.019932, 12.740858, 12.710445, 12.63843 , 12.581247, 12.551917],\n",
              "      dtype=float32)"
            ]
          },
          "metadata": {},
          "execution_count": 23
        }
      ],
      "source": [
        "train_distances[0]"
      ]
    },
    {
      "cell_type": "code",
      "execution_count": null,
      "metadata": {
        "colab": {
          "base_uri": "https://localhost:8080/"
        },
        "id": "opIr77DtiPQk",
        "outputId": "a6647f01-b7c6-470f-c3a0-ba099b759d51"
      },
      "outputs": [
        {
          "output_type": "execute_result",
          "data": {
            "text/plain": [
              "array([['CXR3403_IM-1647-1001', 'CXR1951_IM-0619-1001'],\n",
              "       ['CXR3403_IM-1647-1001', 'CXR3117_IM-1465-1001'],\n",
              "       ['CXR3403_IM-1647-1001', 'CXR3257_IM-1544-1001'],\n",
              "       ['CXR3403_IM-1647-1001', 'CXR1502_IM-0328-1001'],\n",
              "       ['CXR3403_IM-1647-1001', 'CXR3421_IM-1656-1001'],\n",
              "       ['CXR810_IM-2343-1001', 'CXR3911_IM-1987-1001'],\n",
              "       ['CXR810_IM-2343-1001', 'CXR3555_IM-1741-2001'],\n",
              "       ['CXR810_IM-2343-1001', 'CXR2609_IM-1099-3001'],\n",
              "       ['CXR810_IM-2343-1001', 'CXR2136_IM-0758-3001'],\n",
              "       ['CXR810_IM-2343-1001', 'CXR2020_IM-0668-1001']], dtype='<U25')"
            ]
          },
          "metadata": {},
          "execution_count": 24
        }
      ],
      "source": [
        "train_img_edges[:10]"
      ]
    },
    {
      "cell_type": "code",
      "execution_count": null,
      "metadata": {
        "colab": {
          "base_uri": "https://localhost:8080/"
        },
        "id": "QQUfqE1gp6gx",
        "outputId": "d9a36a45-e0ab-4a27-d4d3-8ede46beecbb"
      },
      "outputs": [
        {
          "output_type": "execute_result",
          "data": {
            "text/plain": [
              "array([['CXR3403_IM-1647-1001', 'CXR1951_IM-0619-1001'],\n",
              "       ['CXR3403_IM-1647-1001', 'CXR3117_IM-1465-1001'],\n",
              "       ['CXR3403_IM-1647-1001', 'CXR3257_IM-1544-1001'],\n",
              "       ['CXR3403_IM-1647-1001', 'CXR1502_IM-0328-1001'],\n",
              "       ['CXR3403_IM-1647-1001', 'CXR3421_IM-1656-1001'],\n",
              "       ['CXR810_IM-2343-1001', 'CXR3911_IM-1987-1001'],\n",
              "       ['CXR810_IM-2343-1001', 'CXR3555_IM-1741-2001'],\n",
              "       ['CXR810_IM-2343-1001', 'CXR2609_IM-1099-3001'],\n",
              "       ['CXR810_IM-2343-1001', 'CXR2136_IM-0758-3001'],\n",
              "       ['CXR810_IM-2343-1001', 'CXR2020_IM-0668-1001']], dtype='<U25')"
            ]
          },
          "metadata": {},
          "execution_count": 25
        }
      ],
      "source": [
        "train_img_edges[:10]"
      ]
    },
    {
      "cell_type": "code",
      "execution_count": null,
      "metadata": {
        "colab": {
          "base_uri": "https://localhost:8080/"
        },
        "id": "vPR0FUaIhtIP",
        "outputId": "4ac9d0d2-6d6f-4d34-b499-5b93605a1645"
      },
      "outputs": [
        {
          "output_type": "execute_result",
          "data": {
            "text/plain": [
              "array([['CXR3518_IM-1717-1001', 'CXR2170_IM-0786-1001'],\n",
              "       ['CXR3518_IM-1717-1001', 'CXR3112_IM-1461-1001'],\n",
              "       ['CXR3518_IM-1717-1001', 'CXR376_IM-1883-1001'],\n",
              "       ['CXR3518_IM-1717-1001', 'CXR262_IM-1109-1001'],\n",
              "       ['CXR3518_IM-1717-1001', 'CXR2119_IM-0746-1001'],\n",
              "       ['CXR2553_IM-1059-1001', 'CXR1471_IM-0304-2001'],\n",
              "       ['CXR2553_IM-1059-1001', 'CXR2018_IM-0665-1001'],\n",
              "       ['CXR2553_IM-1059-1001', 'CXR2163_IM-0779-1001'],\n",
              "       ['CXR2553_IM-1059-1001', 'CXR82_IM-2350-3001'],\n",
              "       ['CXR2553_IM-1059-1001', 'CXR2680_IM-1154-1001']], dtype='<U25')"
            ]
          },
          "metadata": {},
          "execution_count": 26
        }
      ],
      "source": [
        "val_img_edges[:10]"
      ]
    },
    {
      "cell_type": "code",
      "execution_count": null,
      "metadata": {
        "colab": {
          "base_uri": "https://localhost:8080/"
        },
        "id": "3FAW0EVGyRSu",
        "outputId": "c54495db-e1c0-4f79-9066-c6e9ad8c709a"
      },
      "outputs": [
        {
          "output_type": "execute_result",
          "data": {
            "text/plain": [
              "array([['CXR3518_IM-1717-1001', 'CXR2170_IM-0786-1001'],\n",
              "       ['CXR3518_IM-1717-1001', 'CXR3112_IM-1461-1001'],\n",
              "       ['CXR3518_IM-1717-1001', 'CXR376_IM-1883-1001'],\n",
              "       ['CXR3518_IM-1717-1001', 'CXR262_IM-1109-1001'],\n",
              "       ['CXR3518_IM-1717-1001', 'CXR2119_IM-0746-1001'],\n",
              "       ['CXR2553_IM-1059-1001', 'CXR1471_IM-0304-2001'],\n",
              "       ['CXR2553_IM-1059-1001', 'CXR2018_IM-0665-1001'],\n",
              "       ['CXR2553_IM-1059-1001', 'CXR2163_IM-0779-1001'],\n",
              "       ['CXR2553_IM-1059-1001', 'CXR82_IM-2350-3001'],\n",
              "       ['CXR2553_IM-1059-1001', 'CXR2680_IM-1154-1001'],\n",
              "       ['CXR3156_IM-1486-1001', 'CXR1356_IM-0231-1001'],\n",
              "       ['CXR3156_IM-1486-1001', 'CXR3770_IM-1890-1001'],\n",
              "       ['CXR3156_IM-1486-1001', 'CXR1384_IM-0246-1001'],\n",
              "       ['CXR3156_IM-1486-1001', 'CXR3663_IM-1822-1001'],\n",
              "       ['CXR3156_IM-1486-1001', 'CXR2467_IM-0997-1001'],\n",
              "       ['CXR3883_IM-1971-1001', 'CXR2244_IM-0841-2002'],\n",
              "       ['CXR3883_IM-1971-1001', 'CXR3173_IM-1495-2002'],\n",
              "       ['CXR3883_IM-1971-1001', 'CXR2434_IM-0976-1001'],\n",
              "       ['CXR3883_IM-1971-1001', 'CXR8_IM-2333-1001'],\n",
              "       ['CXR3883_IM-1971-1001', 'CXR1141_IM-0096-1001'],\n",
              "       ['CXR330_IM-1577-0001-0002', 'CXR3164_IM-1489-0001-0002'],\n",
              "       ['CXR330_IM-1577-0001-0002', 'CXR1510_IM-0331-1001'],\n",
              "       ['CXR330_IM-1577-0001-0002', 'CXR1082_IM-0058-1001'],\n",
              "       ['CXR330_IM-1577-0001-0002', 'CXR3346_IM-1604-1001'],\n",
              "       ['CXR330_IM-1577-0001-0002', 'CXR1810_IM-0524-1001'],\n",
              "       ['CXR289_IM-1292-0001-0001', 'CXR3045_IM-1418-1001'],\n",
              "       ['CXR289_IM-1292-0001-0001', 'CXR2784_IM-1220-1001'],\n",
              "       ['CXR289_IM-1292-0001-0001', 'CXR91_IM-2415-2001'],\n",
              "       ['CXR289_IM-1292-0001-0001', 'CXR2826_IM-1246-1001'],\n",
              "       ['CXR289_IM-1292-0001-0001', 'CXR1997_IM-0651-1001'],\n",
              "       ['CXR2378_IM-0938-1001', 'CXR1776_IM-0508-1001'],\n",
              "       ['CXR2378_IM-0938-1001', 'CXR1700_IM-0462-1001'],\n",
              "       ['CXR2378_IM-0938-1001', 'CXR3529_IM-1725-1001'],\n",
              "       ['CXR2378_IM-0938-1001', 'CXR1904_IM-0586-1001'],\n",
              "       ['CXR2378_IM-0938-1001', 'CXR1017_IM-0013-1001'],\n",
              "       ['CXR15_IM-0324-1001', 'CXR315_IM-1481-1001'],\n",
              "       ['CXR15_IM-0324-1001', 'CXR2595_IM-1086-1001'],\n",
              "       ['CXR15_IM-0324-1001', 'CXR2041_IM-0685-1001'],\n",
              "       ['CXR15_IM-0324-1001', 'CXR253_IM-1045-1001'],\n",
              "       ['CXR15_IM-0324-1001', 'CXR1392_IM-0251-1001'],\n",
              "       ['CXR3932_IM-2004-1002', 'CXR108_IM-0056-1001'],\n",
              "       ['CXR3932_IM-2004-1002', 'CXR195_IM-0618-1002'],\n",
              "       ['CXR3932_IM-2004-1002', 'CXR1410_IM-0260-1001'],\n",
              "       ['CXR3932_IM-2004-1002', 'CXR1966_IM-0629-1001'],\n",
              "       ['CXR3932_IM-2004-1002', 'CXR3765_IM-1884-1001'],\n",
              "       ['CXR3280_IM-1561-2001', 'CXR2815_IM-1240-1001'],\n",
              "       ['CXR3280_IM-1561-2001', 'CXR2296_IM-0876-1001'],\n",
              "       ['CXR3280_IM-1561-2001', 'CXR698_IM-2263-1001'],\n",
              "       ['CXR3280_IM-1561-2001', 'CXR1697_IM-0458-1001'],\n",
              "       ['CXR3280_IM-1561-2001', 'CXR244_IM-0978-1001']], dtype='<U25')"
            ]
          },
          "metadata": {},
          "execution_count": 27
        }
      ],
      "source": [
        "val_img_edges[:50]"
      ]
    },
    {
      "cell_type": "code",
      "execution_count": null,
      "metadata": {
        "colab": {
          "base_uri": "https://localhost:8080/"
        },
        "id": "cmssKFLcydxZ",
        "outputId": "ffa9ac71-8aac-444f-869d-720573269261"
      },
      "outputs": [
        {
          "output_type": "execute_result",
          "data": {
            "text/plain": [
              "array([13.019932, 12.740858, 12.710445, 12.63843 , 12.581247, 12.551917],\n",
              "      dtype=float32)"
            ]
          },
          "metadata": {},
          "execution_count": 28
        }
      ],
      "source": [
        "train_distances[0]"
      ]
    },
    {
      "cell_type": "code",
      "execution_count": null,
      "metadata": {
        "colab": {
          "base_uri": "https://localhost:8080/"
        },
        "id": "3K5gqiR784J6",
        "outputId": "de5e2644-e461-41f8-b198-d16c0a69d26b"
      },
      "outputs": [
        {
          "output_type": "execute_result",
          "data": {
            "text/plain": [
              "array([[   0, 1789, 1552, 1985, 1339,  895],\n",
              "       [   1, 1677,  911, 2141, 1383, 1570],\n",
              "       [   2, 1340, 1827,  880, 1375,  545],\n",
              "       [   3, 1835, 1804,  634, 1639, 1637],\n",
              "       [   4,  918, 2090, 1408,  817, 2095],\n",
              "       [   5,  613,  688, 1754, 1594, 1899],\n",
              "       [   6, 2475,  422,  457,  369, 2378],\n",
              "       [   7, 1277,  180, 1777, 2389,  885],\n",
              "       [   8,  459, 2293,  903,  223, 1171],\n",
              "       [   9,  885, 1500, 1985,  650, 1572]], dtype=uint32)"
            ]
          },
          "metadata": {},
          "execution_count": 29
        }
      ],
      "source": [
        "train_neighbors[:10]"
      ]
    },
    {
      "cell_type": "code",
      "execution_count": null,
      "metadata": {
        "colab": {
          "base_uri": "https://localhost:8080/"
        },
        "id": "jDBSdtGK9Pl8",
        "outputId": "7697cfa7-69b8-409e-fb37-7e18ad9a9501"
      },
      "outputs": [
        {
          "output_type": "execute_result",
          "data": {
            "text/plain": [
              "(2566, 6)"
            ]
          },
          "metadata": {},
          "execution_count": 30
        }
      ],
      "source": [
        "train_neighbors.shape"
      ]
    },
    {
      "cell_type": "code",
      "execution_count": null,
      "metadata": {
        "colab": {
          "base_uri": "https://localhost:8080/"
        },
        "id": "rmOBOEzuBN23",
        "outputId": "b11c7703-72d8-4dab-e1f6-04925093ac7a"
      },
      "outputs": [
        {
          "output_type": "execute_result",
          "data": {
            "text/plain": [
              "array([14.255459, 14.218697, 14.211312, 14.201454, 14.18778 ],\n",
              "      dtype=float32)"
            ]
          },
          "metadata": {},
          "execution_count": 31
        }
      ],
      "source": [
        "val_distances[0]"
      ]
    },
    {
      "cell_type": "code",
      "execution_count": null,
      "metadata": {
        "colab": {
          "base_uri": "https://localhost:8080/"
        },
        "id": "U6_c3gKJBWOp",
        "outputId": "59417500-1bac-4297-f8f0-42b7a21ecc94"
      },
      "outputs": [
        {
          "output_type": "execute_result",
          "data": {
            "text/plain": [
              "array([ 120, 1120, 1760, 2361, 2195, 1265], dtype=uint32)"
            ]
          },
          "metadata": {},
          "execution_count": 32
        }
      ],
      "source": [
        "train_neighbors[120]"
      ]
    },
    {
      "cell_type": "code",
      "execution_count": null,
      "metadata": {
        "id": "oQmpm-2-kFN4"
      },
      "outputs": [],
      "source": [
        "from sklearn.metrics.pairwise import cosine_similarity"
      ]
    },
    {
      "cell_type": "code",
      "execution_count": null,
      "metadata": {
        "colab": {
          "base_uri": "https://localhost:8080/"
        },
        "id": "ihxc4U-3lm-D",
        "outputId": "4de2143d-09a0-4de1-effa-4a3b746dc305"
      },
      "outputs": [
        {
          "output_type": "execute_result",
          "data": {
            "text/plain": [
              "(1, 1024)"
            ]
          },
          "metadata": {},
          "execution_count": 34
        }
      ],
      "source": [
        "x = val_feats[0].reshape(1,-1)\n",
        "x.shape"
      ]
    },
    {
      "cell_type": "code",
      "execution_count": null,
      "metadata": {
        "id": "y2n76sZfltTs"
      },
      "outputs": [],
      "source": [
        "y = train_feats"
      ]
    },
    {
      "cell_type": "code",
      "execution_count": null,
      "metadata": {
        "id": "ncoqx9qwlwuA"
      },
      "outputs": [],
      "source": [
        "sim = cosine_similarity(x,y)"
      ]
    },
    {
      "cell_type": "code",
      "execution_count": null,
      "metadata": {
        "colab": {
          "base_uri": "https://localhost:8080/"
        },
        "id": "wHlKoIxtlz1b",
        "outputId": "da55a46b-0518-4eb1-92f8-017e639bf3df"
      },
      "outputs": [
        {
          "output_type": "execute_result",
          "data": {
            "text/plain": [
              "(1, 2566)"
            ]
          },
          "metadata": {},
          "execution_count": 37
        }
      ],
      "source": [
        "sim.shape"
      ]
    },
    {
      "cell_type": "code",
      "execution_count": null,
      "metadata": {
        "colab": {
          "base_uri": "https://localhost:8080/"
        },
        "id": "T3-2RhBWl04a",
        "outputId": "1f428459-f023-419c-f7b7-1f169a8a5d71"
      },
      "outputs": [
        {
          "output_type": "execute_result",
          "data": {
            "text/plain": [
              "array([ 924,  411, 1086, 2481, 1201, 2361, 1908,  194, 1466,  764])"
            ]
          },
          "metadata": {},
          "execution_count": 38
        }
      ],
      "source": [
        "np.argpartition(sim.reshape(-1), -10)[-10:]"
      ]
    },
    {
      "cell_type": "code",
      "execution_count": null,
      "metadata": {
        "colab": {
          "base_uri": "https://localhost:8080/"
        },
        "id": "fqxsd8gDmNZO",
        "outputId": "f612bf4d-1d74-411a-ef68-ac6dcdda53bd"
      },
      "outputs": [
        {
          "output_type": "execute_result",
          "data": {
            "text/plain": [
              "array([1086, 2481,  764,  194, 1466], dtype=uint32)"
            ]
          },
          "metadata": {},
          "execution_count": 39
        }
      ],
      "source": [
        "val_neighbors[0]"
      ]
    },
    {
      "cell_type": "code",
      "execution_count": null,
      "metadata": {
        "id": "ClbMaZ4XmRcT"
      },
      "outputs": [],
      "source": []
    }
  ],
  "metadata": {
    "colab": {
      "provenance": []
    },
    "kernelspec": {
      "display_name": "Python 3",
      "name": "python3"
    },
    "language_info": {
      "name": "python"
    }
  },
  "nbformat": 4,
  "nbformat_minor": 0
}